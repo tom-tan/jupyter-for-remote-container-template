{
 "nbformat": 4,
 "nbformat_minor": 2,
 "metadata": {
  "language_info": {
   "name": "python",
   "codemirror_mode": {
    "name": "ipython",
    "version": 3
   },
   "version": "3.7.6-final"
  },
  "orig_nbformat": 2,
  "file_extension": ".py",
  "mimetype": "text/x-python",
  "name": "python",
  "npconvert_exporter": "python",
  "pygments_lexer": "ipython3",
  "version": 3,
  "kernelspec": {
   "name": "python3",
   "display_name": "Python 3"
  }
 },
 "cells": [
  {
   "cell_type": "markdown",
   "metadata": {},
   "source": [
    "# Tutorial: Notebook editor in VSCode\n",
    "This block is a markdown cell.\n",
    "By clicking `{}` on the top of this cell, you can change it to a code cell.\n",
    "\n",
    "You can edit this cell by using `Enter`.\n",
    "You can evaluate this cell by using `Shift-enter`.\n",
    "\n",
    "You can read and evaluate this document with Google Colaboratory from [this link](https://colab.research.google.com/github/tom-tan/jupyter-for-remote-container-template/blob/master/examples/tutorial.ipynb).\n"
   ]
  },
  {
   "cell_type": "code",
   "execution_count": 7,
   "metadata": {},
   "outputs": [
    {
     "output_type": "stream",
     "name": "stdout",
     "text": "This block is a code cell. By clicking 'M↓' (that is, 'Markdown') on the top of this cell, you can change it to a markdown cell.\nYou can edit this cell by using `Enter`. You can evaluate this cell by using `Shift-enter`.\n"
    }
   ],
   "source": [
    "msg = \"This block is a code cell.\"\n",
    "msg += \" By clicking 'M↓' (that is, 'Markdown') on the top of this cell, you can change it to a markdown cell.\"\n",
    "\n",
    "another_msg = \"You can edit this cell by using `Enter`.\"\n",
    "another_msg += \" You can evaluate this cell by using `Shift-enter`.\"\n",
    "\n",
    "print(msg)\n",
    "print(another_msg)"
   ]
  },
  {
   "cell_type": "code",
   "execution_count": 11,
   "metadata": {},
   "outputs": [
    {
     "output_type": "stream",
     "name": "stdout",
     "text": "You can execute shell commands by using '!' prefix.\n"
    }
   ],
   "source": [
    "!echo \"You can execute shell commands by using '!' prefix.\""
   ]
  },
  {
   "cell_type": "code",
   "execution_count": 12,
   "metadata": {},
   "outputs": [
    {
     "output_type": "stream",
     "name": "stdout",
     "text": "You can execute shell commands by using '%%bash' header.\n"
    }
   ],
   "source": [
    "%%bash\n",
    "echo \"You can execute shell commands by using '%%bash' header.\""
   ]
  },
  {
   "cell_type": "code",
   "execution_count": null,
   "metadata": {},
   "outputs": [],
   "source": []
  }
 ]
}